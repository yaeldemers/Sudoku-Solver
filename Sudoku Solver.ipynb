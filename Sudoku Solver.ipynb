{
 "cells": [
  {
   "cell_type": "markdown",
   "metadata": {},
   "source": [
    "## Sudoku Solver\n",
    "### This is a Python backtracking implementation to solve any solvable 9x9 sudoku puzzle."
   ]
  },
  {
   "cell_type": "code",
   "execution_count": 224,
   "metadata": {},
   "outputs": [],
   "source": [
    "# Here are a couple of sudoku puzzles to try the following methods on\n",
    "\n",
    "puzzle = [ [3, 0, 6, 5, 0, 8, 4, 0, 0], [5, 2, 0, 0, 0, 0, 0, 0, 0], [0, 8, 7, 0, 0, 0, 0, 3, 1], [0, 0, 3, 0, 1, 0, 0, 8, 0], [9, 0, 0, 8, 6, 3, 0, 0, 5], [0, 5, 0, 0, 9, 0, 6, 0, 0], [1, 3, 0, 0, 0, 0, 2, 5, 0], [0, 0, 0, 0, 0, 0, 0, 7, 4], [0, 0, 5, 2, 0, 6, 3, 0, 0] ]\n",
    "\n",
    "other_puzzle = [ [4, 0, 0, 0, 0, 5, 0, 0, 0], [0, 0, 0, 0, 0, 0, 1, 9, 8], [3, 0, 0, 0, 8, 2, 4, 0, 0], [0, 0, 0, 1, 0, 0, 0, 8, 0], [9, 0, 3, 0, 0, 0, 0, 0, 0], [0, 0, 0, 0, 3, 0, 6, 7, 0], [0, 5, 0, 0, 0, 9, 0, 0, 0], [0, 0, 0, 2, 0, 0, 9, 0, 7], [6, 4, 0, 3, 0, 0, 0, 0, 0] ]\n",
    "\n",
    "no_solution_puzzle =[ [2, 5, 6, 0, 4, 9, 8, 3, 7], [1, 8, 3, 5, 0, 7, 9, 6, 4], [9, 7, 4, 3, 8, 6, 2, 5, 1], [8, 4, 9, 1, 6, 2, 3, 7, 5], [5, 6, 2, 7, 9, 3, 4, 1, 8], [7, 3, 1, 4, 5, 8, 6, 2, 9], [6, 9, 7, 8, 3, 1, 5, 4, 2], [4, 2, 8, 6, 7, 5, 1, 9, 3], [3, 1, 5, 9, 2, 4, 7, 8, 6] ]"
   ]
  },
  {
   "cell_type": "code",
   "execution_count": 225,
   "metadata": {},
   "outputs": [],
   "source": [
    "# An helper function used to have a better looking display of the sudoku puzzles\n",
    "# Here, \"p\" is the 9x9 puzzle that we initially input.\n",
    "\n",
    "def display(p):\n",
    "    for i in range(len(p)):\n",
    "        if i%3 == 0 and i != 0 :\n",
    "            print(\"------+-------+------\")\n",
    "        for j in range(len(p[0])):\n",
    "            if j%3 == 0 and j != 0:\n",
    "                print(\"| \", end=\"\")\n",
    "            if j == len(p)-1:\n",
    "                print(p[i][j])\n",
    "            else: \n",
    "                print(str(p[i][j])+\" \", end=\"\")"
   ]
  },
  {
   "cell_type": "code",
   "execution_count": 226,
   "metadata": {},
   "outputs": [],
   "source": [
    "# An helper function used to find the next empty value in the puzzle.\n",
    "# If an empty value is found, we return \"c\", a list coordinate (row, col).\n",
    "\n",
    "def next_empty(p):\n",
    "    for row in range(len(p)):\n",
    "        for col in range(len(p[0])):\n",
    "            if p[row][col] == 0:\n",
    "                return (row, col)\n",
    "    return None"
   ]
  },
  {
   "cell_type": "code",
   "execution_count": 228,
   "metadata": {},
   "outputs": [],
   "source": [
    "# Looks to see whether or not a number (n) can be placed at a certain \n",
    "# coordinate (c). Returns True if we can place \"n\" on \"c\", otherwise\n",
    "# we return False. Note that here \"c\" is a list coordinate (row, col). \n",
    "\n",
    "def is_available(p, c, n):\n",
    "    row = c[0]\n",
    "    col = c[1]\n",
    "    \n",
    "    # We first check to see if \"n\" is in the row we wish to set it in\n",
    "    if n in p[row]:\n",
    "            return False\n",
    "    \n",
    "    # Then, we check to see if \"n\" is in the given collumn\n",
    "    for i in range(len(p)):\n",
    "        if n == p[i][col]:\n",
    "            return False\n",
    "        \n",
    "    # Lastly we check to see whether or not \"n\" is in the cell where \"c\" \n",
    "    # is located. Note that in order to perform this method on a greater\n",
    "    # puzzle (more than 9x9), this is the sub-method we should modify.\n",
    "    row = (row//3)*3\n",
    "    col = (col//3)*3 \n",
    "    for i in range(3):\n",
    "        for j in range(3):\n",
    "            if p[row+i][col+j]==n:\n",
    "                return False\n",
    "    \n",
    "    # Else, \"n\" was not found is thus available at \"c\".\n",
    "    return True"
   ]
  },
  {
   "cell_type": "code",
   "execution_count": 230,
   "metadata": {},
   "outputs": [],
   "source": [
    "def backtrack(p):    \n",
    "    c = next_empty(p)\n",
    "    if c == None:\n",
    "        return True\n",
    "    else:\n",
    "        row = c[0]\n",
    "        col = c[1]\n",
    "    \n",
    "    for n in range(1,10):\n",
    "        #print(\"test\")\n",
    "        if is_available(p, c, n):\n",
    "            p[row][col] = n\n",
    "            if backtrack(p):\n",
    "                return True\n",
    "            else:\n",
    "                p[row][col] = 0\n",
    "    return False"
   ]
  },
  {
   "cell_type": "code",
   "execution_count": 236,
   "metadata": {},
   "outputs": [],
   "source": [
    "def solve(p):\n",
    "    display(p)\n",
    "    print()\n",
    "    print(\"Solving ...\")\n",
    "    print()\n",
    "    if backtrack(p):\n",
    "        display(p)\n",
    "    else:\n",
    "        print(\"No solution exists for this sudoku puzzle.\")"
   ]
  },
  {
   "cell_type": "code",
   "execution_count": 237,
   "metadata": {},
   "outputs": [
    {
     "name": "stdout",
     "output_type": "stream",
     "text": [
      "2 5 6 | 0 4 9 | 8 3 7\n",
      "1 8 3 | 5 0 7 | 9 6 4\n",
      "9 7 4 | 3 8 6 | 2 5 1\n",
      "------+-------+------\n",
      "8 4 9 | 1 6 2 | 3 7 5\n",
      "5 6 2 | 7 9 3 | 4 1 8\n",
      "7 3 1 | 4 5 8 | 6 2 9\n",
      "------+-------+------\n",
      "6 9 7 | 8 3 1 | 5 4 2\n",
      "4 2 8 | 6 7 5 | 1 9 3\n",
      "3 1 5 | 9 2 4 | 7 8 6\n",
      "\n",
      "Solving ...\n",
      "\n",
      "No solution exists for this sudoku puzzle.\n"
     ]
    }
   ],
   "source": [
    "solve(no_solution_puzzle)"
   ]
  },
  {
   "cell_type": "code",
   "execution_count": null,
   "metadata": {},
   "outputs": [],
   "source": []
  },
  {
   "cell_type": "code",
   "execution_count": null,
   "metadata": {},
   "outputs": [],
   "source": []
  }
 ],
 "metadata": {
  "kernelspec": {
   "display_name": "Python 3",
   "language": "python",
   "name": "python3"
  },
  "language_info": {
   "codemirror_mode": {
    "name": "ipython",
    "version": 3
   },
   "file_extension": ".py",
   "mimetype": "text/x-python",
   "name": "python",
   "nbconvert_exporter": "python",
   "pygments_lexer": "ipython3",
   "version": "3.8.5"
  }
 },
 "nbformat": 4,
 "nbformat_minor": 4
}
